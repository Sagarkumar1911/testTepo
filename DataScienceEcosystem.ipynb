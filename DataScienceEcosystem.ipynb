{
 "cells": [
  {
   "cell_type": "markdown",
   "id": "022eea25-6a67-4f6a-aabf-e5a285ddb894",
   "metadata": {},
   "source": [
    "# H1:Data Science Tools and Ecosystem"
   ]
  },
  {
   "cell_type": "markdown",
   "id": "e44a7585-4d7c-4438-9773-b96d07ba98e6",
   "metadata": {},
   "source": [
    "# In this notebook ,Data Science Tools and Ecosystem are summarized."
   ]
  },
  {
   "cell_type": "markdown",
   "id": "746b83f4-9578-4b02-9db9-add7ba5980f5",
   "metadata": {},
   "source": [
    "# Some of the popular languages that Data Scientesta use are :\n",
    "1. Python – Widely used for its rich ecosystem of libraries and frameworks like Pandas, NumPy, Scikit-learn, and TensorFlow.\n",
    "2. R – Popular for statistical analysis, data visualization, and bioinformatics.\n",
    "3. SQL – Essential for querying and managing structured data in relational databases.\n",
    "4. Julia – Known for its high performance in numerical and scientific computing.\n",
    "5. Scala – Often used with Apache Spark for big data processing and analytics."
   ]
  },
  {
   "cell_type": "markdown",
   "id": "6c617c6a-e1ac-4693-8826-5bece5c2f2dc",
   "metadata": {},
   "source": [
    "# Some of the commonly used libraries used by Data Scientists include:\n",
    "1. NumPy – Provides support for large, multi-dimensional arrays and matrices, along with a collection of mathematical functions.\n",
    "2. Pandas – Offers data structures and functions needed for efficient data manipulation and analysis.\n",
    "3. Matplotlib – A plotting library used for creating static, animated, and interactive visualizations.\n",
    "4. Scikit-learn – A machine learning library that features various classification, regression, and clustering algorithms.\n",
    "5. TensorFlow – An open-source framework for building and training deep learning models.\n"
   ]
  },
  {
   "cell_type": "markdown",
   "id": "32d2dabf-6b86-40ee-9423-ef7d549ba1ac",
   "metadata": {},
   "source": [
    "| Data Science Tools         |\n",
    "|----------------------------|\n",
    "| Jupyter Notebook           |\n",
    "| RStudio                    |\n",
    "| Visual Studio Code (VS Code) |\n"
   ]
  },
  {
   "cell_type": "code",
   "execution_count": 1,
   "id": "02bb7687-1592-47e0-8951-2bed9ce6ef7f",
   "metadata": {},
   "outputs": [
    {
     "ename": "SyntaxError",
     "evalue": "invalid syntax (640668517.py, line 2)",
     "output_type": "error",
     "traceback": [
      "\u001b[1;36m  Cell \u001b[1;32mIn[1], line 2\u001b[1;36m\u001b[0m\n\u001b[1;33m    2+3:\u001b[0m\n\u001b[1;37m       ^\u001b[0m\n\u001b[1;31mSyntaxError\u001b[0m\u001b[1;31m:\u001b[0m invalid syntax\n"
     ]
    }
   ],
   "source": [
    "# H3: Below are a few examples of evaluating arithmetic expressions in Python:\n",
    "2+3\n",
    "2*4\n",
    "8-3"
   ]
  },
  {
   "cell_type": "code",
   "execution_count": 2,
   "id": "d6898de6-6a85-4416-b802-86ce894386ce",
   "metadata": {},
   "outputs": [
    {
     "data": {
      "text/plain": [
       "5"
      ]
     },
     "execution_count": 2,
     "metadata": {},
     "output_type": "execute_result"
    }
   ],
   "source": [
    "# H3: Below are a few examples of evaluating arithmetic expressions in Python:\n",
    "2+3\n",
    "2*4\n",
    "8-3"
   ]
  },
  {
   "cell_type": "code",
   "execution_count": 3,
   "id": "924a0635-8673-4aed-9157-dc640ead292f",
   "metadata": {},
   "outputs": [
    {
     "data": {
      "text/plain": [
       "17"
      ]
     },
     "execution_count": 3,
     "metadata": {},
     "output_type": "execute_result"
    }
   ],
   "source": [
    "# This is a simple arithmetic expression to multiply then add integers\n",
    "(3 * 4) + 5\n"
   ]
  },
  {
   "cell_type": "code",
   "execution_count": 4,
   "id": "1998a612-803d-4b58-b977-10acc4ff1928",
   "metadata": {},
   "outputs": [
    {
     "data": {
      "text/plain": [
       "3.3333333333333335"
      ]
     },
     "execution_count": 4,
     "metadata": {},
     "output_type": "execute_result"
    }
   ],
   "source": [
    "# This will convert 200 minutes to hours by dividing by 60\n",
    "hours = 200 / 60\n",
    "hours\n"
   ]
  },
  {
   "cell_type": "markdown",
   "id": "296c5004-bd9d-4cb2-88e9-025892a71b21",
   "metadata": {},
   "source": [
    "**Objectives:**\n",
    "\n",
    "- List popular languages for Data Science\n",
    "- Identify commonly used libraries in Data Science\n",
    "- Describe open-source development environments\n",
    "- Explain the roles of tools like Jupyter and RStudio\n",
    "- Convert minutes into hours using a simple Python expression\n"
   ]
  },
  {
   "cell_type": "markdown",
   "id": "7c89ec08-87e3-4649-9533-0da113b3690e",
   "metadata": {},
   "source": []
  }
 ],
 "metadata": {
  "kernelspec": {
   "display_name": "Python [conda env:base] *",
   "language": "python",
   "name": "conda-base-py"
  },
  "language_info": {
   "codemirror_mode": {
    "name": "ipython",
    "version": 3
   },
   "file_extension": ".py",
   "mimetype": "text/x-python",
   "name": "python",
   "nbconvert_exporter": "python",
   "pygments_lexer": "ipython3",
   "version": "3.12.7"
  }
 },
 "nbformat": 4,
 "nbformat_minor": 5
}
